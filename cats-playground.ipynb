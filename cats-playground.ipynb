{
  "metadata" : {
    "config" : {
      "dependencies" : {
        "scala" : [
          "org.typelevel:cats-core_2.11:2.0.0",
          "org.typelevel:cats-free_2.11:2.0.0",
          "org.typelevel:cats-mtl-core_2.11:0.7.0",
          "com.github.mpilquist:simulacrum_2.11:0.19.0",
          "org.scalamacros:resetallattrs_2.11:1.0.0",
          "org.specs2:specs2-core_2.11:4.8.1",
          "org.specs2:specs2-scalacheck_2.11:4.8.1",
          "org.scalacheck:scalacheck_2.11:1.14.3"
        ]
      },
      "exclusions" : [
      ],
      "repositories" : [
        {
          "maven" : {
            "base" : "http://central.maven.org/maven2/"
          }
        },
        {
          "maven" : {
            "base" : "http://oss.sonatype.org/content/repositories/snapshots",
            "changing" : true
          }
        }
      ],
      "sparkConfig" : {
        
      }
    },
    "language_info" : {
      "name" : "scala"
    }
  },
  "nbformat" : 4,
  "nbformat_minor" : 0,
  "cells" : [
    {
      "cell_type" : "code",
      "execution_count" : 0,
      "metadata" : {
        "cell.metadata.exec_info" : {
          "startTs" : 1591209936131,
          "endTs" : 1591209937045
        },
        "language" : "scala"
      },
      "language" : "scala",
      "source" : [
        "import cats._, cats.data._, cats.implicits._\n",
        "import org.scalacheck.Prop"
      ],
      "outputs" : [
      ]
    },
    {
      "cell_type" : "code",
      "execution_count" : 1,
      "metadata" : {
        "cell.metadata.exec_info" : {
          "startTs" : 1591209937073,
          "endTs" : 1591209937822
        },
        "language" : "scala"
      },
      "language" : "scala",
      "source" : [
        "1 == \"1\""
      ],
      "outputs" : [
        {
          "execution_count" : 1,
          "data" : {
            "text/plain" : [
              "false"
            ]
          },
          "metadata" : {
            "name" : "Out",
            "type" : "Boolean"
          },
          "output_type" : "execute_result"
        }
      ]
    },
    {
      "cell_type" : "code",
      "execution_count" : 2,
      "metadata" : {
        "cell.metadata.exec_info" : {
          "startTs" : 1591209937830,
          "endTs" : 1591209939587
        },
        "language" : "scala"
      },
      "language" : "scala",
      "source" : [
        "val l = List(1, 2, 3, 4)\n",
        "Functor[List].map(l)(_ + 1)"
      ],
      "outputs" : [
        {
          "execution_count" : 2,
          "data" : {
            "text/plain" : [
              "List(2, 3, 4, 5)"
            ]
          },
          "metadata" : {
            "name" : "Out",
            "type" : "List[Int]"
          },
          "output_type" : "execute_result"
        }
      ]
    },
    {
      "cell_type" : "code",
      "execution_count" : 3,
      "metadata" : {
        "cell.metadata.exec_info" : {
          "startTs" : 1591209939620,
          "endTs" : 1591209940650
        },
        "language" : "scala"
      },
      "language" : "scala",
      "source" : [
        "val l = List(1, 2) |+| List(3, 4, 5)\n",
        "l"
      ],
      "outputs" : [
        {
          "execution_count" : 3,
          "data" : {
            "text/plain" : [
              "List(1, 2, 3, 4, 5)"
            ]
          },
          "metadata" : {
            "name" : "Out",
            "type" : "List[Int]"
          },
          "output_type" : "execute_result"
        }
      ]
    },
    {
      "cell_type" : "code",
      "execution_count" : 4,
      "metadata" : {
        "cell.metadata.exec_info" : {
          "startTs" : 1591209940679,
          "endTs" : 1591209941998
        },
        "language" : "scala"
      },
      "language" : "scala",
      "source" : [
        "val l1: List[Any] = List(1, 2, 3) \n",
        "val l2: List[Any] = List(\"4\", \"5\")\n",
        "l1 |+| l2"
      ],
      "outputs" : [
        {
          "execution_count" : 4,
          "data" : {
            "text/plain" : [
              "List(1, 2, 3, 4, 5)"
            ]
          },
          "metadata" : {
            "name" : "Out",
            "type" : "List[Any]"
          },
          "output_type" : "execute_result"
        }
      ]
    },
    {
      "cell_type" : "code",
      "execution_count" : 5,
      "metadata" : {
        "cell.metadata.exec_info" : {
          "startTs" : 1591209942008,
          "endTs" : 1591209942783
        },
        "language" : "scala"
      },
      "language" : "scala",
      "source" : [
        "val a: Either[String, Int] = Right(1)\n",
        "a.map(_ + 1)"
      ],
      "outputs" : [
        {
          "execution_count" : 5,
          "data" : {
            "text/plain" : [
              "Right(2)"
            ]
          },
          "metadata" : {
            "name" : "Out",
            "type" : "Either[String, Int]"
          },
          "output_type" : "execute_result"
        }
      ]
    },
    {
      "cell_type" : "code",
      "execution_count" : 6,
      "metadata" : {
        "cell.metadata.exec_info" : {
          "startTs" : 1591209942802,
          "endTs" : 1591209943373
        },
        "language" : "scala"
      },
      "language" : "scala",
      "source" : [
        "val f = ((x: Int) => x + 1).compose((_: Int) * 7)\n",
        "f(1)"
      ],
      "outputs" : [
        {
          "execution_count" : 6,
          "data" : {
            "text/plain" : [
              "8"
            ]
          },
          "metadata" : {
            "name" : "Out",
            "type" : "Int"
          },
          "output_type" : "execute_result"
        }
      ]
    },
    {
      "cell_type" : "code",
      "execution_count" : 7,
      "metadata" : {
        "cell.metadata.exec_info" : {
          "startTs" : 1591209943399,
          "endTs" : 1591209944019
        },
        "language" : "scala"
      },
      "language" : "scala",
      "source" : [
        "val f = ((x: Int) => x + 1).map((_: Int) * 7) \n",
        "f(1)"
      ],
      "outputs" : [
        {
          "execution_count" : 7,
          "data" : {
            "text/plain" : [
              "14"
            ]
          },
          "metadata" : {
            "name" : "Out",
            "type" : "Int"
          },
          "output_type" : "execute_result"
        }
      ]
    },
    {
      "cell_type" : "markdown",
      "execution_count" : 8,
      "metadata" : {
        "language" : "text"
      },
      "language" : "text",
      "source" : [
        "**Type Class** - API representing some functionality. In scala it's a trait with type parameter.<br>**Type Class** instance provides implementations for the type.\n",
        "\n",
        "**Type Class Interface** - functionality exposed to the used. This can be **interface object** (methods in singleton object) or **interface syntax** (extension methods).\n",
        "\n",
        " \n",
        "\n"
      ],
      "outputs" : [
      ]
    },
    {
      "cell_type" : "code",
      "execution_count" : 9,
      "metadata" : {
        "cell.metadata.exec_info" : {
          "startTs" : 1591209944026,
          "endTs" : 1591209944475
        },
        "language" : "scala"
      },
      "language" : "scala",
      "source" : [
        "trait Printable[A] {\n",
        "    def format[A](value: A): String\n",
        "}\n",
        "object PrintableInstances {\n",
        "    implicit val printableString: Printable[String] = new Printable[String]{\n",
        "        def format[String](value: String) = value.toString\n",
        "    }\n",
        "    implicit val printableInt: Printable[Int] = new Printable[Int]{\n",
        "        def format[Int](value: Int) = value.toString\n",
        "    }\n",
        "}\n",
        "object Printable{\n",
        "    def format[A](value: A)(implicit valuePrintable: Printable[A]): String = valuePrintable.format(value)\n",
        "    def print[A](value: A)(implicit valuePrintable: Printable[A]): Unit = println(valuePrintable.format(value))\n",
        "}\n",
        "\n",
        "import PrintableInstances._, Printable._\n",
        "format(3)"
      ],
      "outputs" : [
        {
          "execution_count" : 9,
          "data" : {
            "text/plain" : [
              "3"
            ]
          },
          "metadata" : {
            "name" : "Out",
            "type" : "String"
          },
          "output_type" : "execute_result"
        }
      ]
    },
    {
      "cell_type" : "code",
      "execution_count" : 10,
      "metadata" : {
        "cell.metadata.exec_info" : {
          "startTs" : 1591209944497,
          "endTs" : 1591209944919
        },
        "language" : "scala"
      },
      "language" : "scala",
      "source" : [
        "object PrintableInstances {\n",
        "    implicit val printableString: Printable[String] = new Printable[String]{\n",
        "        def format[String](value: String) = value.toString\n",
        "    }\n",
        "    implicit val printableInt: Printable[Int] = new Printable[Int]{\n",
        "        def format[Int](value: Int) = value.toString\n",
        "    }\n",
        "}\n",
        "object PrintableSyntax{\n",
        "    implicit class PrintableOps[A](value: A) {\n",
        "        def format(implicit p: Printable[A]): String = p.format(value)\n",
        "        def print(implicit p: Printable[A]): Unit = println(p.format(value))\n",
        "    }\n",
        "}\n",
        "\n",
        "import PrintableInstances._, PrintableSyntax._\n",
        "3.print // works in intellij"
      ],
      "outputs" : [
        {
          "name" : "stdout",
          "text" : [
            "3\n"
          ],
          "output_type" : "stream"
        }
      ]
    },
    {
      "cell_type" : "code",
      "execution_count" : 11,
      "metadata" : {
        "cell.metadata.exec_info" : {
          "startTs" : 1591209944926,
          "endTs" : 1591209945303
        },
        "language" : "scala"
      },
      "language" : "scala",
      "source" : [
        "case class En(x: Int, y: String) \n",
        "implicit val enShow: Show[En] = Show.show[En](en => s\"${en.x} ${en.y}\")\n",
        "val en = En(1, \"2\")\n",
        "en.show"
      ],
      "outputs" : [
        {
          "execution_count" : 11,
          "data" : {
            "application/json" : [
              {
                "pos" : {
                  "sourceId" : "Cell9",
                  "start" : 604,
                  "end" : 604,
                  "point" : 604
                },
                "msg" : "not found: value PrintableInstances",
                "severity" : 2
              },
              {
                "pos" : {
                  "sourceId" : "Cell9",
                  "start" : 626,
                  "end" : 626,
                  "point" : 626
                },
                "msg" : "not found: value Printable",
                "severity" : 2
              },
              {
                "pos" : {
                  "sourceId" : "Cell10",
                  "start" : 534,
                  "end" : 534,
                  "point" : 534
                },
                "msg" : "not found: value PrintableInstances",
                "severity" : 2
              },
              {
                "pos" : {
                  "sourceId" : "Cell10",
                  "start" : 556,
                  "end" : 556,
                  "point" : 556
                },
                "msg" : "not found: value PrintableSyntax",
                "severity" : 2
              }
            ],
            "text/plain" : [
              "Error: not found: value PrintableInstances (604)",
              "Error: not found: value Printable (626)",
              "Error: not found: value PrintableInstances (534)",
              "Error: not found: value PrintableSyntax (556)"
            ]
          },
          "metadata" : {
            "rel" : "compiler_errors"
          },
          "output_type" : "execute_result"
        }
      ]
    },
    {
      "cell_type" : "code",
      "execution_count" : 12,
      "metadata" : {
        "cell.metadata.exec_info" : {
          "startTs" : 1591209945320,
          "endTs" : 1591209945643
        },
        "language" : "scala"
      },
      "language" : "scala",
      "source" : [
        "val l1 = List(Some(1), None, Some(2))\n",
        "l1.reduce((e1, e2) => e1 |+| e2)"
      ],
      "outputs" : [
        {
          "execution_count" : 12,
          "data" : {
            "application/json" : [
              {
                "pos" : {
                  "sourceId" : "Cell9",
                  "start" : 604,
                  "end" : 604,
                  "point" : 604
                },
                "msg" : "not found: value PrintableInstances",
                "severity" : 2
              },
              {
                "pos" : {
                  "sourceId" : "Cell9",
                  "start" : 626,
                  "end" : 626,
                  "point" : 626
                },
                "msg" : "not found: value Printable",
                "severity" : 2
              },
              {
                "pos" : {
                  "sourceId" : "Cell10",
                  "start" : 534,
                  "end" : 534,
                  "point" : 534
                },
                "msg" : "not found: value PrintableInstances",
                "severity" : 2
              },
              {
                "pos" : {
                  "sourceId" : "Cell10",
                  "start" : 556,
                  "end" : 556,
                  "point" : 556
                },
                "msg" : "not found: value PrintableSyntax",
                "severity" : 2
              }
            ],
            "text/plain" : [
              "Error: not found: value PrintableInstances (604)",
              "Error: not found: value Printable (626)",
              "Error: not found: value PrintableInstances (534)",
              "Error: not found: value PrintableSyntax (556)"
            ]
          },
          "metadata" : {
            "rel" : "compiler_errors"
          },
          "output_type" : "execute_result"
        }
      ]
    },
    {
      "cell_type" : "code",
      "execution_count" : 13,
      "metadata" : {
        "cell.metadata.exec_info" : {
          "startTs" : 1591209945648,
          "endTs" : 1591209945724
        },
        "language" : "scala"
      },
      "language" : "scala",
      "source" : [
        "// Monoid.apply[Boolean].empty // does not exist"
      ],
      "outputs" : [
        {
          "execution_count" : 13,
          "data" : {
            "application/json" : [
              {
                "pos" : {
                  "sourceId" : "Cell9",
                  "start" : 604,
                  "end" : 604,
                  "point" : 604
                },
                "msg" : "not found: value PrintableInstances",
                "severity" : 2
              },
              {
                "pos" : {
                  "sourceId" : "Cell9",
                  "start" : 626,
                  "end" : 626,
                  "point" : 626
                },
                "msg" : "not found: value Printable",
                "severity" : 2
              },
              {
                "pos" : {
                  "sourceId" : "Cell10",
                  "start" : 534,
                  "end" : 534,
                  "point" : 534
                },
                "msg" : "not found: value PrintableInstances",
                "severity" : 2
              },
              {
                "pos" : {
                  "sourceId" : "Cell10",
                  "start" : 556,
                  "end" : 556,
                  "point" : 556
                },
                "msg" : "not found: value PrintableSyntax",
                "severity" : 2
              }
            ],
            "text/plain" : [
              "Error: not found: value PrintableInstances (604)",
              "Error: not found: value Printable (626)",
              "Error: not found: value PrintableInstances (534)",
              "Error: not found: value PrintableSyntax (556)"
            ]
          },
          "metadata" : {
            "rel" : "compiler_errors"
          },
          "output_type" : "execute_result"
        }
      ]
    },
    {
      "cell_type" : "code",
      "execution_count" : 14,
      "metadata" : {
        "cell.metadata.exec_info" : {
          "startTs" : 1591209945736,
          "endTs" : 1591209945951
        },
        "language" : "scala"
      },
      "language" : "scala",
      "source" : [
        "trait Codec[A] { self => \n",
        "  def encode(value: A): String\n",
        "  def decode(value: String): A\n",
        "  def imap[B](dec: A => B, enc: B => A): Codec[B] = {\n",
        "      new Codec[B]{\n",
        "          def encode(value: B): String = {\n",
        "              self.encode(enc(value))\n",
        "          }\n",
        "          def decode(value: String): B = {\n",
        "              dec(self.decode(value))\n",
        "          }\n",
        "      }\n",
        "  }\n",
        "}\n",
        "val doubleCodec = new Codec[Double]{\n",
        "    def encode(value: Double) = value.toString\n",
        "    def decode(value: String) = value.toDouble\n",
        "}\n",
        "\n",
        "doubleCodec.decode(\"2\")\n",
        "doubleCodec.encode(2.0)\n"
      ],
      "outputs" : [
        {
          "execution_count" : 14,
          "data" : {
            "application/json" : [
              {
                "pos" : {
                  "sourceId" : "Cell9",
                  "start" : 604,
                  "end" : 604,
                  "point" : 604
                },
                "msg" : "not found: value PrintableInstances",
                "severity" : 2
              },
              {
                "pos" : {
                  "sourceId" : "Cell9",
                  "start" : 626,
                  "end" : 626,
                  "point" : 626
                },
                "msg" : "not found: value Printable",
                "severity" : 2
              },
              {
                "pos" : {
                  "sourceId" : "Cell10",
                  "start" : 534,
                  "end" : 534,
                  "point" : 534
                },
                "msg" : "not found: value PrintableInstances",
                "severity" : 2
              },
              {
                "pos" : {
                  "sourceId" : "Cell10",
                  "start" : 556,
                  "end" : 556,
                  "point" : 556
                },
                "msg" : "not found: value PrintableSyntax",
                "severity" : 2
              }
            ],
            "text/plain" : [
              "Error: not found: value PrintableInstances (604)",
              "Error: not found: value Printable (626)",
              "Error: not found: value PrintableInstances (534)",
              "Error: not found: value PrintableSyntax (556)"
            ]
          },
          "metadata" : {
            "rel" : "compiler_errors"
          },
          "output_type" : "execute_result"
        }
      ]
    },
    {
      "cell_type" : "code",
      "execution_count" : 15,
      "metadata" : {
        "cell.metadata.exec_info" : {
          "startTs" : 1591209945955,
          "endTs" : 1591209946038
        },
        "language" : "scala"
      },
      "language" : "scala",
      "source" : [
        "import cats.Id\n",
        "\n",
        "def pure[A](value: A): Id[A] = value\n",
        "def flatMap[A, B](value: Id[A])(f: A => Id[B]): Id[B] = f(value)\n",
        "def map[A, B](value: Id[A])(f: A => B): Id[B] = f(value)"
      ],
      "outputs" : [
        {
          "execution_count" : 15,
          "data" : {
            "application/json" : [
              {
                "pos" : {
                  "sourceId" : "Cell9",
                  "start" : 604,
                  "end" : 604,
                  "point" : 604
                },
                "msg" : "not found: value PrintableInstances",
                "severity" : 2
              },
              {
                "pos" : {
                  "sourceId" : "Cell9",
                  "start" : 626,
                  "end" : 626,
                  "point" : 626
                },
                "msg" : "not found: value Printable",
                "severity" : 2
              },
              {
                "pos" : {
                  "sourceId" : "Cell10",
                  "start" : 534,
                  "end" : 534,
                  "point" : 534
                },
                "msg" : "not found: value PrintableInstances",
                "severity" : 2
              },
              {
                "pos" : {
                  "sourceId" : "Cell10",
                  "start" : 556,
                  "end" : 556,
                  "point" : 556
                },
                "msg" : "not found: value PrintableSyntax",
                "severity" : 2
              }
            ],
            "text/plain" : [
              "Error: not found: value PrintableInstances (604)",
              "Error: not found: value Printable (626)",
              "Error: not found: value PrintableInstances (534)",
              "Error: not found: value PrintableSyntax (556)"
            ]
          },
          "metadata" : {
            "rel" : "compiler_errors"
          },
          "output_type" : "execute_result"
        }
      ]
    },
    {
      "cell_type" : "code",
      "execution_count" : 16,
      "metadata" : {
        "cell.metadata.exec_info" : {
          "startTs" : 1591209946043,
          "endTs" : 1591209946139
        },
        "language" : "scala"
      },
      "language" : "scala",
      "source" : [
        "val r1: Either[String, Int] = Right(3)\n",
        "val r2: Either[String, Int] = Left(\"s\")\n",
        "val r3 = Right(5)\n",
        "for {\n",
        "    vr1 <- r1.right\n",
        "    vr2 <- r2.right\n",
        "} yield vr1 * vr2\n",
        "// TODO: Eval.defer"
      ],
      "outputs" : [
        {
          "execution_count" : 16,
          "data" : {
            "application/json" : [
              {
                "pos" : {
                  "sourceId" : "Cell9",
                  "start" : 604,
                  "end" : 604,
                  "point" : 604
                },
                "msg" : "not found: value PrintableInstances",
                "severity" : 2
              },
              {
                "pos" : {
                  "sourceId" : "Cell9",
                  "start" : 626,
                  "end" : 626,
                  "point" : 626
                },
                "msg" : "not found: value Printable",
                "severity" : 2
              },
              {
                "pos" : {
                  "sourceId" : "Cell10",
                  "start" : 534,
                  "end" : 534,
                  "point" : 534
                },
                "msg" : "not found: value PrintableInstances",
                "severity" : 2
              },
              {
                "pos" : {
                  "sourceId" : "Cell10",
                  "start" : 556,
                  "end" : 556,
                  "point" : 556
                },
                "msg" : "not found: value PrintableSyntax",
                "severity" : 2
              }
            ],
            "text/plain" : [
              "Error: not found: value PrintableInstances (604)",
              "Error: not found: value Printable (626)",
              "Error: not found: value PrintableInstances (534)",
              "Error: not found: value PrintableSyntax (556)"
            ]
          },
          "metadata" : {
            "rel" : "compiler_errors"
          },
          "output_type" : "execute_result"
        }
      ]
    },
    {
      "cell_type" : "code",
      "execution_count" : 17,
      "metadata" : {
        "cell.metadata.exec_info" : {
          "startTs" : 1591209946143,
          "endTs" : 1591209946305
        },
        "language" : "scala"
      },
      "language" : "scala",
      "source" : [
        "None.pure[Option]\n",
        "1.pure[Option]"
      ],
      "outputs" : [
        {
          "execution_count" : 17,
          "data" : {
            "application/json" : [
              {
                "pos" : {
                  "sourceId" : "Cell9",
                  "start" : 604,
                  "end" : 604,
                  "point" : 604
                },
                "msg" : "not found: value PrintableInstances",
                "severity" : 2
              },
              {
                "pos" : {
                  "sourceId" : "Cell9",
                  "start" : 626,
                  "end" : 626,
                  "point" : 626
                },
                "msg" : "not found: value Printable",
                "severity" : 2
              },
              {
                "pos" : {
                  "sourceId" : "Cell10",
                  "start" : 534,
                  "end" : 534,
                  "point" : 534
                },
                "msg" : "not found: value PrintableInstances",
                "severity" : 2
              },
              {
                "pos" : {
                  "sourceId" : "Cell10",
                  "start" : 556,
                  "end" : 556,
                  "point" : 556
                },
                "msg" : "not found: value PrintableSyntax",
                "severity" : 2
              }
            ],
            "text/plain" : [
              "Error: not found: value PrintableInstances (604)",
              "Error: not found: value Printable (626)",
              "Error: not found: value PrintableInstances (534)",
              "Error: not found: value PrintableSyntax (556)"
            ]
          },
          "metadata" : {
            "rel" : "compiler_errors"
          },
          "output_type" : "execute_result"
        }
      ]
    },
    {
      "cell_type" : "code",
      "execution_count" : 18,
      "metadata" : {
        "cell.metadata.exec_info" : {
          "startTs" : 1591209946310,
          "endTs" : 1591209946730
        },
        "language" : "scala"
      },
      "language" : "scala",
      "source" : [
        "import scala.concurrent.Future\n",
        "import scala.concurrent.ExecutionContext.Implicits.global\n",
        "\n",
        "type Response[A] = EitherT[Future, String, A]\n",
        "val powerLevels = Map(\"Jazz\" -> 6, \"Bumblebee\" -> 8, \"Hot Rod\" -> 10)\n",
        "def getPowerLevel(autobot: String): Response[Int] = {\n",
        "    powerLevels.get(autobot) match {\n",
        "        case Some(a) => EitherT.rightT[Future, String](a)\n",
        "        case None => EitherT.leftT[Future, Int](\"$autobot\")\n",
        "    }\n",
        "}\n",
        "\n",
        "def canSpecialMove(ally1: String, ally2: String): Response[Boolean] = {\n",
        "    getPowerLevel(ally1).flatMap(l1 => getPowerLevel(ally2).map(l2 => l1 + l1 > 15))\n",
        "}"
      ],
      "outputs" : [
        {
          "execution_count" : 18,
          "data" : {
            "application/json" : [
              {
                "pos" : {
                  "sourceId" : "Cell9",
                  "start" : 604,
                  "end" : 604,
                  "point" : 604
                },
                "msg" : "not found: value PrintableInstances",
                "severity" : 2
              },
              {
                "pos" : {
                  "sourceId" : "Cell9",
                  "start" : 626,
                  "end" : 626,
                  "point" : 626
                },
                "msg" : "not found: value Printable",
                "severity" : 2
              },
              {
                "pos" : {
                  "sourceId" : "Cell10",
                  "start" : 534,
                  "end" : 534,
                  "point" : 534
                },
                "msg" : "not found: value PrintableInstances",
                "severity" : 2
              },
              {
                "pos" : {
                  "sourceId" : "Cell10",
                  "start" : 556,
                  "end" : 556,
                  "point" : 556
                },
                "msg" : "not found: value PrintableSyntax",
                "severity" : 2
              }
            ],
            "text/plain" : [
              "Error: not found: value PrintableInstances (604)",
              "Error: not found: value Printable (626)",
              "Error: not found: value PrintableInstances (534)",
              "Error: not found: value PrintableSyntax (556)"
            ]
          },
          "metadata" : {
            "rel" : "compiler_errors"
          },
          "output_type" : "execute_result"
        }
      ]
    },
    {
      "cell_type" : "code",
      "execution_count" : 19,
      "metadata" : {
        "cell.metadata.exec_info" : {
          "startTs" : 1591209946735,
          "endTs" : 1591209947726
        },
        "language" : "scala"
      },
      "language" : "scala",
      "source" : [
        "import cats._, cats.data._, cats.implicits._\n",
        "import scala.util.Try\n",
        "\n",
        "type FailFast[A] = Either[List[String], A]\n",
        "type FailSlow[A] = Validated[List[String], A]\n",
        "\n",
        "def getValueFast(res: Map[String, String], field: String): FailFast[String] = {\n",
        "    res.get(field).toRight(List(\"Field not found\"))\n",
        "}\n",
        "def parseIntFast(toConvert: String): FailFast[Int] = {\n",
        "    Try(toConvert.toInt).toOption.toRight(List(\"Cannot parse int\"))\n",
        "}\n",
        "def nonBlankFast(arg: String): FailFast[String] = {\n",
        "    Right(arg).ensure(List(\"Blank string\"))(!_.isEmpty)\n",
        "}\n",
        "def nonNegativeFast(arg: Int): FailFast[Int] = {\n",
        "    Right(arg).ensure(List(\"Negative int\"))(_ >= 0)\n",
        "}\n",
        "def readNameFast(map: Map[String, String]): FailFast[String] = {\n",
        "    getValueFast(map, \"name\").flatMap(nonBlankFast)\n",
        "}\n",
        "\n",
        "def getValueSlow(res: Map[String, String], field: String): FailSlow[String] = {\n",
        "    res.get(field).toValid(List(\"Field not found\"))\n",
        "}\n",
        "def parseIntSlow(toConvert: String): FailSlow[Int] = {\n",
        "    Try(toConvert.toInt).toOption.toValid(List(\"Cannot parse int\"))\n",
        "}\n",
        "def nonBlankSlow(arg: String): FailSlow[String] = {\n",
        "    arg.valid.ensure(List(\"Blank string\"))(!_.isEmpty)\n",
        "}\n",
        "def nonNegativeSlow(arg: Int): FailSlow[Int] = {\n",
        "    arg.valid.ensure(List(\"Negative int\"))(_ >= 0)\n",
        "}\n",
        "def readNameSlow(map: Map[String, String]): FailSlow[String] = {\n",
        "    getValueSlow(map, \"name\").andThen(nonBlankSlow)\n",
        "}\n",
        "def readAgeSlow(map: Map[String, String]): FailSlow[Int] = {\n",
        "    getValueSlow(map, \"age\").andThen(parseIntSlow).andThen(nonNegativeSlow)\n",
        "}\n",
        "\n",
        "case class Person(name: String, age: Int)\n",
        "\n",
        "val m = Map(\"name\" -> \"\", \"age\" -> \"-22\")\n",
        "(readNameSlow(m), readAgeSlow(m)).mapN(Person)"
      ],
      "outputs" : [
        {
          "execution_count" : 19,
          "data" : {
            "application/json" : [
              {
                "pos" : {
                  "sourceId" : "Cell9",
                  "start" : 604,
                  "end" : 604,
                  "point" : 604
                },
                "msg" : "not found: value PrintableInstances",
                "severity" : 2
              },
              {
                "pos" : {
                  "sourceId" : "Cell9",
                  "start" : 626,
                  "end" : 626,
                  "point" : 626
                },
                "msg" : "not found: value Printable",
                "severity" : 2
              },
              {
                "pos" : {
                  "sourceId" : "Cell10",
                  "start" : 534,
                  "end" : 534,
                  "point" : 534
                },
                "msg" : "not found: value PrintableInstances",
                "severity" : 2
              },
              {
                "pos" : {
                  "sourceId" : "Cell10",
                  "start" : 556,
                  "end" : 556,
                  "point" : 556
                },
                "msg" : "not found: value PrintableSyntax",
                "severity" : 2
              }
            ],
            "text/plain" : [
              "Error: not found: value PrintableInstances (604)",
              "Error: not found: value Printable (626)",
              "Error: not found: value PrintableInstances (534)",
              "Error: not found: value PrintableSyntax (556)"
            ]
          },
          "metadata" : {
            "rel" : "compiler_errors"
          },
          "output_type" : "execute_result"
        }
      ]
    }
  ]
}