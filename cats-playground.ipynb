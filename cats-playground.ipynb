{
  "metadata" : {
    "config" : {
      "dependencies" : {
        "scala" : [
          "org.typelevel:cats-core_2.11:2.0.0",
          "org.typelevel:cats-free_2.11:2.0.0",
          "org.typelevel:cats-mtl-core_2.11:0.7.0",
          "com.github.mpilquist:simulacrum_2.11:0.19.0",
          "org.scalamacros:resetallattrs_2.11:1.0.0",
          "org.specs2:specs2-core_2.11:4.8.1",
          "org.specs2:specs2-scalacheck_2.11:4.8.1",
          "org.scalacheck:scalacheck_2.11:1.14.3"
        ]
      },
      "exclusions" : [
      ],
      "repositories" : [
        {
          "maven" : {
            "base" : "http://central.maven.org/maven2/"
          }
        },
        {
          "maven" : {
            "base" : "http://oss.sonatype.org/content/repositories/snapshots",
            "changing" : true
          }
        }
      ],
      "sparkConfig" : {
        
      }
    }
  },
  "nbformat" : 4,
  "nbformat_minor" : 0,
  "cells" : [
    {
      "cell_type" : "code",
      "execution_count" : 0,
      "metadata" : {
        "cell.metadata.exec_info" : {
          "startTs" : 1576526245096,
          "endTs" : 1576526245252
        },
        "language" : "scala"
      },
      "language" : "scala",
      "source" : [
        "import cats._, cats.data._, cats.implicits._"
      ],
      "outputs" : [
      ]
    }
  ]
}