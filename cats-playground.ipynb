{
  "metadata" : {
    "config" : {
      "dependencies" : {
        "scala" : [
          "org.typelevel:cats-core_2.11:2.0.0",
          "org.typelevel:cats-free_2.11:2.0.0",
          "org.typelevel:cats-mtl-core_2.11:0.7.0",
          "com.github.mpilquist:simulacrum_2.11:0.19.0",
          "org.scalamacros:resetallattrs_2.11:1.0.0",
          "org.specs2:specs2-core_2.11:4.8.1",
          "org.specs2:specs2-scalacheck_2.11:4.8.1",
          "org.scalacheck:scalacheck_2.11:1.14.3"
        ]
      },
      "exclusions" : [
      ],
      "repositories" : [
        {
          "maven" : {
            "base" : "http://central.maven.org/maven2/"
          }
        },
        {
          "maven" : {
            "base" : "http://oss.sonatype.org/content/repositories/snapshots",
            "changing" : true
          }
        }
      ],
      "sparkConfig" : {
        
      }
    }
  },
  "nbformat" : 4,
  "nbformat_minor" : 0,
  "cells" : [
    {
      "cell_type" : "code",
      "execution_count" : 0,
      "metadata" : {
        "cell.metadata.exec_info" : {
          "startTs" : 1579367842917,
          "endTs" : 1579367843683
        },
        "language" : "scala"
      },
      "language" : "scala",
      "source" : [
        "import cats._, cats.data._, cats.implicits._\n",
        "import org.scalacheck.Prop"
      ],
      "outputs" : [
      ]
    },
    {
      "cell_type" : "code",
      "execution_count" : 1,
      "metadata" : {
        "cell.metadata.exec_info" : {
          "startTs" : 1578775943271,
          "endTs" : 1578775943893
        },
        "language" : "scala"
      },
      "language" : "scala",
      "source" : [
        "1 == \"1\""
      ],
      "outputs" : [
        {
          "execution_count" : 1,
          "data" : {
            "text/plain" : [
              "false"
            ]
          },
          "metadata" : {
            "name" : "Out",
            "type" : "Boolean"
          },
          "output_type" : "execute_result"
        }
      ]
    },
    {
      "cell_type" : "code",
      "execution_count" : 2,
      "metadata" : {
        "cell.metadata.exec_info" : {
          "startTs" : 1578775792023,
          "endTs" : 1578775793830
        },
        "language" : "scala"
      },
      "language" : "scala",
      "source" : [
        "val l = List(1, 2, 3, 4)\n",
        "Functor[List].map(l)(_ + 1)"
      ],
      "outputs" : [
        {
          "execution_count" : 2,
          "data" : {
            "text/plain" : [
              "List(2, 3, 4, 5)"
            ]
          },
          "metadata" : {
            "name" : "Out",
            "type" : "List[Int]"
          },
          "output_type" : "execute_result"
        }
      ]
    },
    {
      "cell_type" : "code",
      "execution_count" : 3,
      "metadata" : {
        "cell.metadata.exec_info" : {
          "startTs" : 1578775793875,
          "endTs" : 1578775794927
        },
        "language" : "scala"
      },
      "language" : "scala",
      "source" : [
        "val l = List(1, 2) |+| List(3, 4, 5)\n",
        "l"
      ],
      "outputs" : [
        {
          "execution_count" : 3,
          "data" : {
            "text/plain" : [
              "List(1, 2, 3, 4, 5)"
            ]
          },
          "metadata" : {
            "name" : "Out",
            "type" : "List[Int]"
          },
          "output_type" : "execute_result"
        }
      ]
    },
    {
      "cell_type" : "code",
      "execution_count" : 4,
      "metadata" : {
        "cell.metadata.exec_info" : {
          "startTs" : 1578775794933,
          "endTs" : 1578775796141
        },
        "language" : "scala"
      },
      "language" : "scala",
      "source" : [
        "val l1: List[Any] = List(1, 2, 3) \n",
        "val l2: List[Any] = List(\"4\", \"5\")\n",
        "l1 |+| l2"
      ],
      "outputs" : [
        {
          "execution_count" : 4,
          "data" : {
            "text/plain" : [
              "List(1, 2, 3, 4, 5)"
            ]
          },
          "metadata" : {
            "name" : "Out",
            "type" : "List[Any]"
          },
          "output_type" : "execute_result"
        }
      ]
    },
    {
      "cell_type" : "code",
      "execution_count" : 5,
      "metadata" : {
        "cell.metadata.exec_info" : {
          "startTs" : 1578775796147,
          "endTs" : 1578775796907
        },
        "language" : "scala"
      },
      "language" : "scala",
      "source" : [
        "val a: Either[String, Int] = Right(1)\n",
        "a.map(_ + 1)"
      ],
      "outputs" : [
        {
          "execution_count" : 5,
          "data" : {
            "text/plain" : [
              "Right(2)"
            ]
          },
          "metadata" : {
            "name" : "Out",
            "type" : "Either[String, Int]"
          },
          "output_type" : "execute_result"
        }
      ]
    },
    {
      "cell_type" : "code",
      "execution_count" : 6,
      "metadata" : {
        "cell.metadata.exec_info" : {
          "startTs" : 1578775796923,
          "endTs" : 1578775797559
        },
        "language" : "scala"
      },
      "language" : "scala",
      "source" : [
        "val f = ((x: Int) => x + 1).compose((_: Int) * 7)\n",
        "f(1)"
      ],
      "outputs" : [
        {
          "execution_count" : 6,
          "data" : {
            "text/plain" : [
              "8"
            ]
          },
          "metadata" : {
            "name" : "Out",
            "type" : "Int"
          },
          "output_type" : "execute_result"
        }
      ]
    },
    {
      "cell_type" : "code",
      "execution_count" : 7,
      "metadata" : {
        "cell.metadata.exec_info" : {
          "startTs" : 1578775797577,
          "endTs" : 1578775798568
        },
        "language" : "scala"
      },
      "language" : "scala",
      "source" : [
        "val f = ((x: Int) => x + 1).map((_: Int) * 7) \n",
        "f(1)"
      ],
      "outputs" : [
        {
          "execution_count" : 7,
          "data" : {
            "text/plain" : [
              "14"
            ]
          },
          "metadata" : {
            "name" : "Out",
            "type" : "Int"
          },
          "output_type" : "execute_result"
        }
      ]
    },
    {
      "cell_type" : "markdown",
      "execution_count" : 8,
      "metadata" : {
        "language" : "text"
      },
      "language" : "text",
      "source" : [
        "**Type Class** - API representing some functionality. In scala it's a trait with type parameter.<br>**Type Class** instance provides implementations for the type.\n",
        "\n",
        "**Type Class Interface** - functionality exposed to the used. This can be **interface object** (methods in singleton object) or **interface syntax** (extension methods).\n",
        "\n",
        " \n",
        "\n"
      ],
      "outputs" : [
      ]
    },
    {
      "cell_type" : "code",
      "execution_count" : 9,
      "metadata" : {
        "cell.metadata.exec_info" : {
          "startTs" : 1578775798574,
          "endTs" : 1578775799246
        },
        "language" : "scala"
      },
      "language" : "scala",
      "source" : [
        "trait Printable[A] {\n",
        "    def format[A](value: A): String\n",
        "}\n",
        "object PrintableInstances {\n",
        "    implicit val printableString: Printable[String] = new Printable[String]{\n",
        "        def format[String](value: String) = value.toString\n",
        "    }\n",
        "    implicit val printableInt: Printable[Int] = new Printable[Int]{\n",
        "        def format[Int](value: Int) = value.toString\n",
        "    }\n",
        "}\n",
        "object Printable{\n",
        "    def format[A](value: A)(implicit valuePrintable: Printable[A]): String = valuePrintable.format(value)\n",
        "    def print[A](value: A)(implicit valuePrintable: Printable[A]): Unit = println(valuePrintable.format(value))\n",
        "}\n",
        "\n",
        "import PrintableInstances._, Printable._\n",
        "format(3)"
      ],
      "outputs" : [
        {
          "execution_count" : 9,
          "data" : {
            "text/plain" : [
              "3"
            ]
          },
          "metadata" : {
            "name" : "Out",
            "type" : "String"
          },
          "output_type" : "execute_result"
        }
      ]
    },
    {
      "cell_type" : "code",
      "execution_count" : 10,
      "metadata" : {
        "cell.metadata.exec_info" : {
          "startTs" : 1578775799252,
          "endTs" : 1578775799838
        },
        "language" : "scala"
      },
      "language" : "scala",
      "source" : [
        "object PrintableInstances {\n",
        "    implicit val printableString: Printable[String] = new Printable[String]{\n",
        "        def format[String](value: String) = value.toString\n",
        "    }\n",
        "    implicit val printableInt: Printable[Int] = new Printable[Int]{\n",
        "        def format[Int](value: Int) = value.toString\n",
        "    }\n",
        "}\n",
        "object PrintableSyntax{\n",
        "    implicit class PrintableOps[A](value: A) {\n",
        "        def format(implicit p: Printable[A]): String = p.format(value)\n",
        "        def print(implicit p: Printable[A]): Unit = println(p.format(value))\n",
        "    }\n",
        "}\n",
        "\n",
        "import PrintableInstances._, PrintableSyntax._\n",
        "3.print // works in intellij"
      ],
      "outputs" : [
        {
          "name" : "stdout",
          "text" : [
            "3\n"
          ],
          "output_type" : "stream"
        }
      ]
    },
    {
      "cell_type" : "code",
      "execution_count" : 11,
      "metadata" : {
        "cell.metadata.exec_info" : {
          "startTs" : 1578775993339,
          "endTs" : 1578775994721
        },
        "language" : "scala"
      },
      "language" : "scala",
      "source" : [
        "case class En(x: Int, y: String) \n",
        "implicit val enShow: Show[En] = Show.show[En](en => s\"${en.x} ${en.y}\")\n",
        "val en = En(1, \"2\")\n",
        "en.show"
      ],
      "outputs" : [
        {
          "execution_count" : 11,
          "data" : {
            "text/plain" : [
              "1 2"
            ]
          },
          "metadata" : {
            "name" : "Out",
            "type" : "String"
          },
          "output_type" : "execute_result"
        }
      ]
    },
    {
      "cell_type" : "code",
      "execution_count" : 12,
      "metadata" : {
        "cell.metadata.exec_info" : {
          "startTs" : 1578850624903,
          "endTs" : 1578850626782
        },
        "language" : "scala"
      },
      "language" : "scala",
      "source" : [
        "val l1 = List(Some(1), None, Some(2))\n",
        "l1.reduce((e1, e2) => e1 |+| e2)"
      ],
      "outputs" : [
        {
          "execution_count" : 12,
          "data" : {
            "text/plain" : [
              "Some(3)"
            ]
          },
          "metadata" : {
            "name" : "Out",
            "type" : "Option[Int]"
          },
          "output_type" : "execute_result"
        }
      ]
    },
    {
      "cell_type" : "code",
      "execution_count" : 13,
      "metadata" : {
        "cell.metadata.exec_info" : {
          "startTs" : 1578850683968,
          "endTs" : 1578850684132
        },
        "language" : "scala"
      },
      "language" : "scala",
      "source" : [
        "// Monoid.apply[Boolean].empty // does not exist"
      ],
      "outputs" : [
      ]
    },
    {
      "cell_type" : "code",
      "execution_count" : 14,
      "metadata" : {
        "cell.metadata.exec_info" : {
          "startTs" : 1579367931848,
          "endTs" : 1579367934558
        },
        "language" : "scala"
      },
      "language" : "scala",
      "source" : [
        "trait Codec[A] { self => \n",
        "  def encode(value: A): String\n",
        "  def decode(value: String): A\n",
        "  def imap[B](dec: A => B, enc: B => A): Codec[B] = {\n",
        "      new Codec[B]{\n",
        "          def encode(value: B): String = {\n",
        "              self.encode(enc(value))\n",
        "          }\n",
        "          def decode(value: String): B = {\n",
        "              dec(self.decode(value))\n",
        "          }\n",
        "      }\n",
        "  }\n",
        "}\n",
        "val doubleCodec = new Codec[Double]{\n",
        "    def encode(value: Double) = value.toString\n",
        "    def decode(value: String) = value.toDouble\n",
        "}\n",
        "\n",
        "doubleCodec.decode(\"2\")\n",
        "doubleCodec.encode(2.0)\n"
      ],
      "outputs" : [
        {
          "execution_count" : 14,
          "data" : {
            "text/plain" : [
              "2.0"
            ]
          },
          "metadata" : {
            "name" : "Out",
            "type" : "String"
          },
          "output_type" : "execute_result"
        }
      ]
    },
    {
      "cell_type" : "code",
      "execution_count" : 15,
      "metadata" : {
        "cell.metadata.exec_info" : {
          "startTs" : 1579371925120,
          "endTs" : 1579371925638
        },
        "language" : "scala"
      },
      "language" : "scala",
      "source" : [
        "import cats.Id\n",
        "\n",
        "def pure[A](value: A): Id[A] = value\n",
        "def flatMap[A, B](value: Id[A])(f: A => Id[B]): Id[B] = f(value)\n",
        "def map[A, B](value: Id[A])(f: A => B): Id[B] = f(value)"
      ],
      "outputs" : [
        {
          "execution_count" : 15,
          "data" : {
            "text/plain" : [
              "2"
            ]
          },
          "metadata" : {
            "name" : "Out",
            "type" : "Id[Int]"
          },
          "output_type" : "execute_result"
        }
      ]
    },
    {
      "cell_type" : "code",
      "execution_count" : 16,
      "metadata" : {
        "cell.metadata.exec_info" : {
          "startTs" : 1579372671453,
          "endTs" : 1579372672296
        },
        "language" : "scala"
      },
      "language" : "scala",
      "source" : [
        "val r1: Either[String, Int] = Right(3)\n",
        "val r2: Either[String, Int] = Left(\"s\")\n",
        "val r3 = Right(5)\n",
        "for {\n",
        "    vr1 <- r1.right\n",
        "    vr2 <- r2.right\n",
        "} yield vr1 * vr2\n",
        "// TODO: Eval.defer"
      ],
      "outputs" : [
        {
          "execution_count" : 16,
          "data" : {
            "text/plain" : [
              "Left(s)"
            ]
          },
          "metadata" : {
            "name" : "Out",
            "type" : "Either[String, Int]"
          },
          "output_type" : "execute_result"
        }
      ]
    }
  ]
}