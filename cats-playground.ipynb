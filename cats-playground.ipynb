{
  "metadata" : {
    "config" : {
      "dependencies" : {
        "scala" : [
          "org.typelevel:cats-core_2.11:2.0.0",
          "org.typelevel:cats-free_2.11:2.0.0",
          "org.typelevel:cats-mtl-core_2.11:0.7.0",
          "com.github.mpilquist:simulacrum_2.11:0.19.0",
          "org.scalamacros:resetallattrs_2.11:1.0.0",
          "org.specs2:specs2-core_2.11:4.8.1",
          "org.specs2:specs2-scalacheck_2.11:4.8.1",
          "org.scalacheck:scalacheck_2.11:1.14.3"
        ]
      },
      "exclusions" : [
      ],
      "repositories" : [
        {
          "maven" : {
            "base" : "http://central.maven.org/maven2/"
          }
        },
        {
          "maven" : {
            "base" : "http://oss.sonatype.org/content/repositories/snapshots",
            "changing" : true
          }
        }
      ],
      "sparkConfig" : {
        
      }
    }
  },
  "nbformat" : 4,
  "nbformat_minor" : 0,
  "cells" : [
    {
      "cell_type" : "code",
      "execution_count" : 0,
      "metadata" : {
        "cell.metadata.exec_info" : {
          "startTs" : 1578774112330,
          "endTs" : 1578774113351
        },
        "language" : "scala"
      },
      "language" : "scala",
      "source" : [
        "import cats._, cats.data._, cats.implicits._\n",
        "import org.scalacheck.Prop"
      ],
      "outputs" : [
      ]
    },
    {
      "cell_type" : "code",
      "execution_count" : 1,
      "metadata" : {
        "cell.metadata.exec_info" : {
          "startTs" : 1578774113377,
          "endTs" : 1578774113964
        },
        "language" : "scala"
      },
      "language" : "scala",
      "source" : [
        "1 == \"1\""
      ],
      "outputs" : [
        {
          "execution_count" : 1,
          "data" : {
            "text/plain" : [
              "false"
            ]
          },
          "metadata" : {
            "name" : "Out",
            "type" : "Boolean"
          },
          "output_type" : "execute_result"
        }
      ]
    },
    {
      "cell_type" : "code",
      "execution_count" : 2,
      "metadata" : {
        "cell.metadata.exec_info" : {
          "startTs" : 1578774113976,
          "endTs" : 1578774116565
        },
        "language" : "scala"
      },
      "language" : "scala",
      "source" : [
        "val l = List(1, 2, 3, 4)\n",
        "Functor[List].map(l)(_ + 1)"
      ],
      "outputs" : [
        {
          "execution_count" : 2,
          "data" : {
            "text/plain" : [
              "List(2, 3, 4, 5)"
            ]
          },
          "metadata" : {
            "name" : "Out",
            "type" : "List[Int]"
          },
          "output_type" : "execute_result"
        }
      ]
    },
    {
      "cell_type" : "code",
      "execution_count" : 3,
      "metadata" : {
        "cell.metadata.exec_info" : {
          "startTs" : 1578774116612,
          "endTs" : 1578774118032
        },
        "language" : "scala"
      },
      "language" : "scala",
      "source" : [
        "val l = List(1, 2) |+| List(3, 4, 5)\n",
        "l"
      ],
      "outputs" : [
        {
          "execution_count" : 3,
          "data" : {
            "text/plain" : [
              "List(1, 2, 3, 4, 5)"
            ]
          },
          "metadata" : {
            "name" : "Out",
            "type" : "List[Int]"
          },
          "output_type" : "execute_result"
        }
      ]
    },
    {
      "cell_type" : "code",
      "execution_count" : 4,
      "metadata" : {
        "cell.metadata.exec_info" : {
          "startTs" : 1578774118048,
          "endTs" : 1578774119526
        },
        "language" : "scala"
      },
      "language" : "scala",
      "source" : [
        "val l1: List[Any] = List(1, 2, 3) \n",
        "val l2: List[Any] = List(\"4\", \"5\")\n",
        "l1 |+| l2"
      ],
      "outputs" : [
        {
          "execution_count" : 4,
          "data" : {
            "text/plain" : [
              "List(1, 2, 3, 4, 5)"
            ]
          },
          "metadata" : {
            "name" : "Out",
            "type" : "List[Any]"
          },
          "output_type" : "execute_result"
        }
      ]
    },
    {
      "cell_type" : "code",
      "execution_count" : 5,
      "metadata" : {
        "cell.metadata.exec_info" : {
          "startTs" : 1578774119553,
          "endTs" : 1578774120419
        },
        "language" : "scala"
      },
      "language" : "scala",
      "source" : [
        "val a: Either[String, Int] = Right(1)\n",
        "a.map(_ + 1)"
      ],
      "outputs" : [
        {
          "execution_count" : 5,
          "data" : {
            "text/plain" : [
              "Right(2)"
            ]
          },
          "metadata" : {
            "name" : "Out",
            "type" : "Either[String, Int]"
          },
          "output_type" : "execute_result"
        }
      ]
    },
    {
      "cell_type" : "code",
      "execution_count" : 6,
      "metadata" : {
        "cell.metadata.exec_info" : {
          "startTs" : 1578774120433,
          "endTs" : 1578774121235
        },
        "language" : "scala"
      },
      "language" : "scala",
      "source" : [
        "val f = ((x: Int) => x + 1).compose((_: Int) * 7)\n",
        "f(1)"
      ],
      "outputs" : [
        {
          "execution_count" : 6,
          "data" : {
            "text/plain" : [
              "8"
            ]
          },
          "metadata" : {
            "name" : "Out",
            "type" : "Int"
          },
          "output_type" : "execute_result"
        }
      ]
    },
    {
      "cell_type" : "code",
      "execution_count" : 7,
      "metadata" : {
        "cell.metadata.exec_info" : {
          "startTs" : 1578774121259,
          "endTs" : 1578774122048
        },
        "language" : "scala"
      },
      "language" : "scala",
      "source" : [
        "val f = ((x: Int) => x + 1).map((_: Int) * 7) \n",
        "f(1)"
      ],
      "outputs" : [
        {
          "execution_count" : 7,
          "data" : {
            "text/plain" : [
              "14"
            ]
          },
          "metadata" : {
            "name" : "Out",
            "type" : "Int"
          },
          "output_type" : "execute_result"
        }
      ]
    },
    {
      "cell_type" : "markdown",
      "execution_count" : 8,
      "metadata" : {
        "language" : "text"
      },
      "language" : "text",
      "source" : [
        "**Type Class** - API representing some functionality. In scala it's a trait with type parameter.<br>**Type Class** instance provides implementations for the type.\n",
        "\n",
        "**Type Class Interface** - functionality exposed to the used. This can be **interface object** (methods in singleton object) or **interface syntax** (extension methods).\n",
        "\n",
        " \n",
        "\n"
      ],
      "outputs" : [
      ]
    },
    {
      "cell_type" : "code",
      "execution_count" : 9,
      "metadata" : {
        "cell.metadata.exec_info" : {
          "startTs" : 1578774122066,
          "endTs" : 1578774122660
        },
        "language" : "scala"
      },
      "language" : "scala",
      "source" : [
        "trait Printable[A] {\n",
        "    def format[A](value: A): String\n",
        "}\n",
        "object PrintableInstances {\n",
        "    implicit val printableString: Printable[String] = new Printable[String]{\n",
        "        def format[String](value: String) = value.toString\n",
        "    }\n",
        "    implicit val printableInt: Printable[Int] = new Printable[Int]{\n",
        "        def format[Int](value: Int) = value.toString\n",
        "    }\n",
        "}\n",
        "object Printable{\n",
        "    def format[A](value: A)(implicit valuePrintable: Printable[A]): String = valuePrintable.format(value)\n",
        "    def print[A](value: A)(implicit valuePrintable: Printable[A]): Unit = println(valuePrintable.format(value))\n",
        "}\n",
        "\n",
        "import PrintableInstances._, Printable._\n",
        "format(3)"
      ],
      "outputs" : [
        {
          "execution_count" : 9,
          "data" : {
            "text/plain" : [
              "3"
            ]
          },
          "metadata" : {
            "name" : "Out",
            "type" : "String"
          },
          "output_type" : "execute_result"
        }
      ]
    },
    {
      "cell_type" : "code",
      "execution_count" : 10,
      "metadata" : {
        "cell.metadata.exec_info" : {
          "startTs" : 1578774174497,
          "endTs" : 1578774174887
        },
        "language" : "scala"
      },
      "language" : "scala",
      "source" : [
        "object PrintableInstances {\n",
        "    implicit val printableString: Printable[String] = new Printable[String]{\n",
        "        def format[String](value: String) = value.toString\n",
        "    }\n",
        "    implicit val printableInt: Printable[Int] = new Printable[Int]{\n",
        "        def format[Int](value: Int) = value.toString\n",
        "    }\n",
        "}\n",
        "object PrintableSyntax{\n",
        "    implicit class PrintableOps[A](value: A) {\n",
        "        def format(implicit p: Printable[A]): String = p.format(value)\n",
        "        def print(implicit p: Printable[A]): Unit = println(p.format(value))\n",
        "    }\n",
        "}\n",
        "\n",
        "import PrintableInstances._, PrintableSyntax._\n",
        "3.print // works in intellij"
      ],
      "outputs" : [
        {
          "name" : "stdout",
          "text" : [
            "3",
            "\n"
          ],
          "output_type" : "stream"
        }
      ]
    },
    {
      "cell_type" : "code",
      "execution_count" : 11,
      "metadata" : {
        "cell.metadata.exec_info" : {
          "startTs" : 1578774166269,
          "endTs" : 1578774166343
        },
        "language" : "scala"
      },
      "language" : "scala",
      "source" : [
        "case class En(x: Int, y: String) \n",
        "implicit val enShow: Show[En] = Show.show[En](en => \"{en.x} {en.y}\")"
      ],
      "outputs" : [
        {
          "execution_count" : 11,
          "data" : {
            "application/json" : [
              {
                "pos" : {
                  "sourceId" : "Cell10",
                  "start" : 534,
                  "end" : 534,
                  "point" : 534
                },
                "msg" : "not found: value PrintableInstances",
                "severity" : 2
              },
              {
                "pos" : {
                  "sourceId" : "Cell10",
                  "start" : 556,
                  "end" : 556,
                  "point" : 556
                },
                "msg" : "not found: value PrintableSyntax",
                "severity" : 2
              },
              {
                "pos" : {
                  "sourceId" : "Cell9",
                  "start" : 604,
                  "end" : 604,
                  "point" : 604
                },
                "msg" : "not found: value PrintableInstances",
                "severity" : 2
              },
              {
                "pos" : {
                  "sourceId" : "Cell9",
                  "start" : 626,
                  "end" : 626,
                  "point" : 626
                },
                "msg" : "not found: value Printable",
                "severity" : 2
              }
            ],
            "text/plain" : [
              "Error: not found: value PrintableInstances (534)",
              "Error: not found: value PrintableSyntax (556)",
              "Error: not found: value PrintableInstances (604)",
              "Error: not found: value Printable (626)"
            ]
          },
          "metadata" : {
            "rel" : "compiler_errors"
          },
          "output_type" : "execute_result"
        }
      ]
    }
  ]
}