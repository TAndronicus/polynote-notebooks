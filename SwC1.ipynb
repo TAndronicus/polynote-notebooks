{
  "metadata" : {
    "config" : {
      "dependencies" : {
        "scala" : [
          "org.typelevel:cats-core_2.11:2.0.0",
          "org.typelevel:cats-free_2.11:2.0.0",
          "org.typelevel:cats-mtl-core_2.11:0.7.0",
          "com.github.mpilquist:simulacrum_2.11:0.19.0",
          "org.scalamacros:resetallattrs_2.11:1.0.0",
          "org.specs2:specs2-core_2.11:4.8.1",
          "org.specs2:specs2-scalacheck_2.11:4.8.1",
          "org.scalacheck:scalacheck_2.11:1.14.3"
        ]
      },
      "exclusions" : [
      ],
      "repositories" : [
        {
          "maven" : {
            "base" : "http://central.maven.org/maven2/"
          }
        },
        {
          "maven" : {
            "base" : "http://oss.sonatype.org/content/repositories/snapshots",
            "changing" : true
          }
        }
      ],
      "env" : {
        
      }
    },
    "language_info" : {
      "name" : "scala"
    }
  },
  "nbformat" : 4,
  "nbformat_minor" : 0,
  "cells" : [
    {
      "cell_type" : "markdown",
      "execution_count" : 0,
      "metadata" : {
        "language" : "text"
      },
      "language" : "text",
      "source" : [
        "# SwC1\n",
        "\n",
        "\n"
      ],
      "outputs" : [
      ]
    },
    {
      "cell_type" : "code",
      "execution_count" : 1,
      "metadata" : {
        "cell.metadata.exec_info" : {
          "startTs" : 1592851355714,
          "endTs" : 1592851355880
        },
        "language" : "scala"
      },
      "language" : "scala",
      "source" : [
        "trait Printable[A] {\n",
        "    def format(a: A): String\n",
        "}\n",
        "object PrintableInstances {\n",
        "    implicit val stringPrintable: Printable[String] = new Printable[String] {\n",
        "        def format(a: String) = a\n",
        "    }\n",
        "    implicit val intPrintable: Printable[Int] = new Printable[Int] {\n",
        "        def format(a: Int) = a.toString\n",
        "    }\n",
        "}\n",
        "object Printable {\n",
        "    def format[A](a: A)(implicit aPrintable: Printable[A]) = aPrintable.format(a)\n",
        "    def print[A](a: A)(implicit aPrintable: Printable[A]) = println(aPrintable.format(a))\n",
        "}"
      ],
      "outputs" : [
      ]
    },
    {
      "cell_type" : "code",
      "execution_count" : 2,
      "metadata" : {
        "cell.metadata.exec_info" : {
          "startTs" : 1592851357452,
          "endTs" : 1592851357759
        },
        "language" : "scala"
      },
      "language" : "scala",
      "source" : [
        "import PrintableInstances._\n",
        "Printable.format(1)"
      ],
      "outputs" : [
      ]
    },
    {
      "cell_type" : "code",
      "execution_count" : 3,
      "metadata" : {
        "cell.metadata.exec_info" : {
          "startTs" : 1592852292247,
          "endTs" : 1592852292399
        },
        "language" : "scala"
      },
      "language" : "scala",
      "source" : [
        "object PrintableSyntax {\n",
        "    implicit class PrintableOps[A](a: A) {\n",
        "        def format(implicit aPrintable: Printable[A]) = aPrintable.format(a)\n",
        "        def print(implicit aPrintable: Printable[A]) = println(aPrintable.format(a))\n",
        "    }\n",
        "}"
      ],
      "outputs" : [
      ]
    },
    {
      "cell_type" : "code",
      "execution_count" : 4,
      "metadata" : {
        "cell.metadata.exec_info" : {
          "startTs" : 1592852593822,
          "endTs" : 1592852594468
        },
        "language" : "scala"
      },
      "language" : "scala",
      "source" : [
        "case class Cat(name: String, age: Int, color: String)\n",
        "implicit val catPrintable: Printable[Cat] = new Printable[Cat] {\n",
        "    def format(a: Cat) = s\"${a.name} is a ${a.age}-year-old ${a.color} cat\"\n",
        "}\n",
        "import PrintableSyntax._\n",
        "Cat(\"Gustaw\", 5, \"white\").format"
      ],
      "outputs" : [
      ]
    },
    {
      "cell_type" : "code",
      "execution_count" : 5,
      "metadata" : {
        "cell.metadata.exec_info" : {
          "startTs" : 1592852942101,
          "endTs" : 1592852942451
        },
        "language" : "scala"
      },
      "language" : "scala",
      "source" : [
        "// polynote cannot handle too many implicits, restart the kernel\n",
        "import cats.instances.int._\n",
        "import cats.syntax.show._\n",
        "1.show"
      ],
      "outputs" : [
        {
          "execution_count" : 5,
          "data" : {
            "text/plain" : [
              "1"
            ]
          },
          "metadata" : {
            "name" : "Out",
            "type" : "String"
          },
          "output_type" : "execute_result"
        }
      ]
    }
  ]
}